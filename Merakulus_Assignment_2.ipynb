{
  "nbformat": 4,
  "nbformat_minor": 0,
  "metadata": {
    "colab": {
      "provenance": []
    },
    "kernelspec": {
      "name": "python3",
      "display_name": "Python 3"
    },
    "language_info": {
      "name": "python"
    }
  },
  "cells": [
    {
      "cell_type": "code",
      "execution_count": 3,
      "metadata": {
        "colab": {
          "base_uri": "https://localhost:8080/"
        },
        "id": "Ers_DCIyOUnl",
        "outputId": "96238183-a69a-4abe-e740-74ae4001716c"
      },
      "outputs": [
        {
          "output_type": "stream",
          "name": "stdout",
          "text": [
            "5\n",
            "0\n"
          ]
        }
      ],
      "source": [
        "def max_profit(prices):\n",
        "    if not prices or len(prices) == 1:\n",
        "        return 0\n",
        "\n",
        "    min_price = prices[0]\n",
        "    max_profit = 0\n",
        "\n",
        "    for price in prices:\n",
        "        if price < min_price:\n",
        "            min_price = price\n",
        "        elif price - min_price > max_profit:\n",
        "            max_profit = price - min_price\n",
        "\n",
        "    return max_profit\n",
        "\n",
        "# Test cases\n",
        "print(max_profit([7, 1, 5, 3, 6, 4]))  # Output: 5\n",
        "print(max_profit([7, 6, 4, 3, 1]))  # Output: 0\n"
      ]
    },
    {
      "cell_type": "code",
      "source": [],
      "metadata": {
        "id": "R8jNc53iOZWG"
      },
      "execution_count": null,
      "outputs": []
    }
  ]
}