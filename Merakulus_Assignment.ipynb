{
  "nbformat": 4,
  "nbformat_minor": 0,
  "metadata": {
    "colab": {
      "provenance": []
    },
    "kernelspec": {
      "name": "python3",
      "display_name": "Python 3"
    },
    "language_info": {
      "name": "python"
    }
  },
  "cells": [
    {
      "cell_type": "code",
      "execution_count": 1,
      "metadata": {
        "id": "Ers_DCIyOUnl"
      },
      "outputs": [],
      "source": [
        "class LRUCacheNode:\n",
        "    def __init__(self, key, value):\n",
        "        self.key = key\n",
        "        self.value = value\n",
        "        self.prev = None\n",
        "        self.next = None\n",
        "\n",
        "\n",
        "class LRUCache:\n",
        "    def __init__(self, capacity: int):\n",
        "        self.capacity = capacity\n",
        "        self.cache = {}\n",
        "        self.head = LRUCacheNode(0, 0)\n",
        "        self.tail = LRUCacheNode(0, 0)\n",
        "        self.head.next = self.tail\n",
        "        self.tail.prev = self.head\n",
        "\n",
        "    def _add_node(self, node):\n",
        "        node.prev = self.head\n",
        "        node.next = self.head.next\n",
        "        self.head.next.prev = node\n",
        "        self.head.next = node\n",
        "\n",
        "    def _remove_node(self, node):\n",
        "        prev = node.prev\n",
        "        next_node = node.next\n",
        "        prev.next = next_node\n",
        "        next_node.prev = prev\n",
        "\n",
        "    def _move_to_head(self, node):\n",
        "        self._remove_node(node)\n",
        "        self._add_node(node)\n",
        "\n",
        "    def get(self, key: int) -> int:\n",
        "        if key in self.cache:\n",
        "            node = self.cache[key]\n",
        "            self._move_to_head(node)\n",
        "            return node.value\n",
        "        else:\n",
        "            return -1\n",
        "\n",
        "    def put(self, key: int, value: int) -> None:\n",
        "        if key in self.cache:\n",
        "            node = self.cache[key]\n",
        "            node.value = value\n",
        "            self._move_to_head(node)\n",
        "        else:\n",
        "            if len(self.cache) >= self.capacity:\n",
        "                remove_node = self.tail.prev\n",
        "                self._remove_node(remove_node)\n",
        "                del self.cache[remove_node.key]\n",
        "\n",
        "            new_node = LRUCacheNode(key, value)\n",
        "            self._add_node(new_node)\n",
        "            self.cache[key] = new_node\n"
      ]
    },
    {
      "cell_type": "code",
      "source": [
        "lru_cache = LRUCache(2)\n",
        "lru_cache.put(1, 1)\n",
        "lru_cache.put(2, 2)\n",
        "print(lru_cache.get(1))  # Output: 1\n",
        "lru_cache.put(3, 3)\n",
        "print(lru_cache.get(2))  # Output: -1\n",
        "lru_cache.put(4, 4)\n",
        "print(lru_cache.get(1))  # Output: -1\n",
        "print(lru_cache.get(3))  # Output: 3\n",
        "print(lru_cache.get(4))  # Output: 4\n"
      ],
      "metadata": {
        "colab": {
          "base_uri": "https://localhost:8080/"
        },
        "id": "UyUNaMakOV1V",
        "outputId": "85d6ffd2-876d-4337-9564-5f922af62067"
      },
      "execution_count": 2,
      "outputs": [
        {
          "output_type": "stream",
          "name": "stdout",
          "text": [
            "1\n",
            "-1\n",
            "-1\n",
            "3\n",
            "4\n"
          ]
        }
      ]
    },
    {
      "cell_type": "code",
      "source": [],
      "metadata": {
        "id": "R8jNc53iOZWG"
      },
      "execution_count": null,
      "outputs": []
    }
  ]
}